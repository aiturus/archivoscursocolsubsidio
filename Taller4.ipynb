{
  "nbformat": 4,
  "nbformat_minor": 0,
  "metadata": {
    "colab": {
      "provenance": []
    },
    "kernelspec": {
      "name": "python3",
      "display_name": "Python 3"
    },
    "language_info": {
      "name": "python"
    }
  },
  "cells": [
    {
      "cell_type": "markdown",
      "source": [
        "1. Crear un bucle que cuente todos los números pares hasta\n",
        "el 100 ciclo for"
      ],
      "metadata": {
        "id": "i0wII1nHl6Hw"
      }
    },
    {
      "cell_type": "code",
      "execution_count": 2,
      "metadata": {
        "colab": {
          "base_uri": "https://localhost:8080/"
        },
        "id": "sYzrlNTuhzJ9",
        "outputId": "45e136ec-e621-4f16-94e8-a5d950f0f3fe"
      },
      "outputs": [
        {
          "output_type": "stream",
          "name": "stdout",
          "text": [
            "0\n",
            "2\n",
            "4\n",
            "6\n",
            "8\n",
            "10\n",
            "12\n",
            "14\n",
            "16\n",
            "18\n",
            "20\n",
            "22\n",
            "24\n",
            "26\n",
            "28\n",
            "30\n",
            "32\n",
            "34\n",
            "36\n",
            "38\n",
            "40\n",
            "42\n",
            "44\n",
            "46\n",
            "48\n",
            "50\n",
            "52\n",
            "54\n",
            "56\n",
            "58\n",
            "60\n",
            "62\n",
            "64\n",
            "66\n",
            "68\n",
            "70\n",
            "72\n",
            "74\n",
            "76\n",
            "78\n",
            "80\n",
            "82\n",
            "84\n",
            "86\n",
            "88\n",
            "90\n",
            "92\n",
            "94\n",
            "96\n",
            "98\n",
            "100\n"
          ]
        }
      ],
      "source": [
        "for x in range(0,101,2):\n",
        "  print(x)\n"
      ]
    },
    {
      "cell_type": "markdown",
      "source": [
        "2. Haz una tabla de multiplicar utilizando el ciclo for\n",
        "ciclo for"
      ],
      "metadata": {
        "id": "MlAXuiBnmrGg"
      }
    },
    {
      "cell_type": "code",
      "source": [
        "for y in range(11):\n",
        "  print(7, \" x \", y, \" = \",  y * 7)"
      ],
      "metadata": {
        "colab": {
          "base_uri": "https://localhost:8080/"
        },
        "id": "Dtu2T1-smwv_",
        "outputId": "1c71b934-707f-4788-81fa-beff92132f7e"
      },
      "execution_count": 4,
      "outputs": [
        {
          "output_type": "stream",
          "name": "stdout",
          "text": [
            "7  x  0  =  0\n",
            "7  x  1  =  7\n",
            "7  x  2  =  14\n",
            "7  x  3  =  21\n",
            "7  x  4  =  28\n",
            "7  x  5  =  35\n",
            "7  x  6  =  42\n",
            "7  x  7  =  49\n",
            "7  x  8  =  56\n",
            "7  x  9  =  63\n",
            "7  x  10  =  70\n"
          ]
        }
      ]
    },
    {
      "cell_type": "markdown",
      "source": [
        "3. Escribir un programa que pregunte al usuario su edad y\n",
        "muestre por pantalla todos los años que ha cumplido\n",
        "(desde 1 hasta su edad). ciclo for"
      ],
      "metadata": {
        "id": "4KXVgrNEnNMW"
      }
    },
    {
      "cell_type": "code",
      "source": [
        "age = int(input(\"Indique su edad:\"))\n",
        "\n",
        "for a in range(1,(age+1)):\n",
        "  print(\"Sus años a traves del tiempo \", a )"
      ],
      "metadata": {
        "colab": {
          "base_uri": "https://localhost:8080/"
        },
        "id": "u09UBByAnYYc",
        "outputId": "0904d4b8-e1a3-49c2-9067-ab696d748a5c"
      },
      "execution_count": 8,
      "outputs": [
        {
          "output_type": "stream",
          "name": "stdout",
          "text": [
            "Indique su edad:36\n",
            "Sus años a traves del tiempo  1\n",
            "Sus años a traves del tiempo  2\n",
            "Sus años a traves del tiempo  3\n",
            "Sus años a traves del tiempo  4\n",
            "Sus años a traves del tiempo  5\n",
            "Sus años a traves del tiempo  6\n",
            "Sus años a traves del tiempo  7\n",
            "Sus años a traves del tiempo  8\n",
            "Sus años a traves del tiempo  9\n",
            "Sus años a traves del tiempo  10\n",
            "Sus años a traves del tiempo  11\n",
            "Sus años a traves del tiempo  12\n",
            "Sus años a traves del tiempo  13\n",
            "Sus años a traves del tiempo  14\n",
            "Sus años a traves del tiempo  15\n",
            "Sus años a traves del tiempo  16\n",
            "Sus años a traves del tiempo  17\n",
            "Sus años a traves del tiempo  18\n",
            "Sus años a traves del tiempo  19\n",
            "Sus años a traves del tiempo  20\n",
            "Sus años a traves del tiempo  21\n",
            "Sus años a traves del tiempo  22\n",
            "Sus años a traves del tiempo  23\n",
            "Sus años a traves del tiempo  24\n",
            "Sus años a traves del tiempo  25\n",
            "Sus años a traves del tiempo  26\n",
            "Sus años a traves del tiempo  27\n",
            "Sus años a traves del tiempo  28\n",
            "Sus años a traves del tiempo  29\n",
            "Sus años a traves del tiempo  30\n",
            "Sus años a traves del tiempo  31\n",
            "Sus años a traves del tiempo  32\n",
            "Sus años a traves del tiempo  33\n",
            "Sus años a traves del tiempo  34\n",
            "Sus años a traves del tiempo  35\n",
            "Sus años a traves del tiempo  36\n"
          ]
        }
      ]
    },
    {
      "cell_type": "markdown",
      "source": [
        "4. Escribir un programa que pida al usuario un número entero\n",
        "positivo y muestre por pantalla todos los números\n",
        "impares desde 1 hasta ese número separados por comas."
      ],
      "metadata": {
        "id": "hlns5hT-o8MV"
      }
    },
    {
      "cell_type": "code",
      "source": [
        "num = int(input(\"Indique un numero entero positivo:\"))\n",
        "\n",
        "for n in range(1, num, 2):\n",
        "  print(n,\",\")"
      ],
      "metadata": {
        "colab": {
          "base_uri": "https://localhost:8080/"
        },
        "id": "-HIrGpV0pHhr",
        "outputId": "fed1081f-51aa-4052-b767-72ad4196acdd"
      },
      "execution_count": 10,
      "outputs": [
        {
          "output_type": "stream",
          "name": "stdout",
          "text": [
            "Indique un numero entero positivo:59\n",
            "1 ,\n",
            "3 ,\n",
            "5 ,\n",
            "7 ,\n",
            "9 ,\n",
            "11 ,\n",
            "13 ,\n",
            "15 ,\n",
            "17 ,\n",
            "19 ,\n",
            "21 ,\n",
            "23 ,\n",
            "25 ,\n",
            "27 ,\n",
            "29 ,\n",
            "31 ,\n",
            "33 ,\n",
            "35 ,\n",
            "37 ,\n",
            "39 ,\n",
            "41 ,\n",
            "43 ,\n",
            "45 ,\n",
            "47 ,\n",
            "49 ,\n",
            "51 ,\n",
            "53 ,\n",
            "55 ,\n",
            "57 ,\n"
          ]
        }
      ]
    },
    {
      "cell_type": "markdown",
      "source": [
        "5. Encuentra la suma de todos los números pares del 1 al\n",
        "100 ciclo for"
      ],
      "metadata": {
        "id": "mSBY3rTap3oz"
      }
    },
    {
      "cell_type": "code",
      "source": [
        "nums= 0\n",
        "\n",
        "for i in range(0,101,2):\n",
        "  nums = nums + i\n",
        "print(f\"El total de la suma de los número pares del 1 al 100 es = {nums}\")"
      ],
      "metadata": {
        "colab": {
          "base_uri": "https://localhost:8080/"
        },
        "id": "bmn4G9p_p5OW",
        "outputId": "906625e6-33ac-4de3-9858-a21a340dfb3d"
      },
      "execution_count": 14,
      "outputs": [
        {
          "output_type": "stream",
          "name": "stdout",
          "text": [
            "El total de la suma de los número pares del 1 al 100 es = 2550\n"
          ]
        }
      ]
    }
  ]
}